{
 "cells": [
  {
   "cell_type": "code",
   "execution_count": 9,
   "metadata": {},
   "outputs": [],
   "source": [
    "import jieba\n",
    "import jieba.posseg as pseg\n",
    "#用于中文分词的库\n",
    "from py2neo import Graph\n",
    "#用于中文备注的库"
   ]
  },
  {
   "cell_type": "code",
   "execution_count": 10,
   "metadata": {},
   "outputs": [],
   "source": [
    "#用于导入打标的文件\n",
    "def dictPath(dict_path = []):\n",
    "    for p in dict_path:\n",
    "        jieba.load_userdict(p)"
   ]
  },
  {
   "cell_type": "code",
   "execution_count": 11,
   "metadata": {},
   "outputs": [],
   "source": [
    "# 导入打标文件\n",
    "dictPath(['./Data/ngsDict.txt', './Data/nsxDict.txt','./Data/nprDict.txt'])"
   ]
  },
  {
   "cell_type": "code",
   "execution_count": 12,
   "metadata": {},
   "outputs": [],
   "source": [
    "# 用于分词，把达标过的词从搜索语句中找出来\n",
    "def get_word_objects(sentence):\n",
    "    ngs = []\n",
    "    nsx = []\n",
    "    npr = []\n",
    "    for word, tag in pseg.cut(sentence):\n",
    "        if tag == 'ngs':\n",
    "            ngs.append(word)\n",
    "        elif tag == 'nsx':\n",
    "            nsx.append(word)\n",
    "        elif tag == 'npr':\n",
    "            npr.append(word)   \n",
    "    return ngs, nsx, npr"
   ]
  },
  {
   "cell_type": "code",
   "execution_count": 14,
   "metadata": {},
   "outputs": [],
   "source": [
    "# 连接neo4j放在文件最前面\n",
    "url = 'localhost:7474'\n",
    "# 用户名\n",
    "username = 'neo4j'\n",
    "# 密码\n",
    "password = 'database123'\n",
    "graph = Graph(url, username=username, password=password)\n",
    "\n",
    "# 通过一句通用的搜索语句返回所有需要的东西\n",
    "def searchGraph(label, value):\n",
    "    rt = graph.run(\n",
    "        \"match (s:`{}`)-[p]->(o) where s.value=~'.*{}.*' return type(p), o.value, labels(o)\"\n",
    "        .format(label,value)).data()\n",
    "    if len(rt) < 1:\n",
    "        return -1\n",
    "    else:\n",
    "        property_dict = {}\n",
    "        for po in rt:\n",
    "            if po['type(p)'] not in property_dict:\n",
    "                property_dict[po['type(p)']] = [(po['labels(o)'][0], po['o.value']), ]\n",
    "            else:\n",
    "                property_dict[po['type(p)']].append((po['labels(o)'][0], po['o.value']))\n",
    "        return property_dict"
   ]
  },
  {
   "cell_type": "code",
   "execution_count": 15,
   "metadata": {},
   "outputs": [],
   "source": [
    "# 把neo4j中返回的所有关系进行整理，返回需要的数据\n",
    "def search(sentence):\n",
    "    ngs, nsx, npr = get_word_objects(sentence)\n",
    "    if ngs:\n",
    "        answ = []\n",
    "        for i in ngs:\n",
    "            answer = searchGraph(label='理财产品', value=i)\n",
    "            ans = []\n",
    "            if nsx:\n",
    "                for k,v in answer.items():\n",
    "                    if k in nsx:\n",
    "                        a = str(k + ' : ' + v[0][1])\n",
    "                        ans.append(a)\n",
    "            else:\n",
    "                for p,q in answer.items():\n",
    "                    a = p + ' : ' + q[0][1]\n",
    "                    ans.append(a)\n",
    "            answ.append(ans)\n",
    "        return answ\n",
    "    elif npr:\n",
    "        anws = []\n",
    "        for i in npr:\n",
    "            lab = i.split('为')[0]\n",
    "            val = i.split('为')[1]\n",
    "            answer = searchGraph(label=lab, value=val)\n",
    "            for j in answer['产品']:\n",
    "                anws.append(j[1])\n",
    "        return anws\n",
    "    else:\n",
    "        return '请输入想搜索的理财产品全名，或者想要找的属性'"
   ]
  },
  {
   "cell_type": "code",
   "execution_count": 22,
   "metadata": {},
   "outputs": [
    {
     "name": "stdout",
     "output_type": "stream",
     "text": [
      "发行机构为徐州铜山农村商业银行股份有限公司的产品\n"
     ]
    }
   ],
   "source": [
    "s = input()\n",
    "a=search(s)"
   ]
  },
  {
   "cell_type": "code",
   "execution_count": 21,
   "metadata": {},
   "outputs": [
    {
     "name": "stdout",
     "output_type": "stream",
     "text": [
      "产品状态为预售的产品\n"
     ]
    }
   ],
   "source": [
    "y = input()\n",
    "b=search(y)"
   ]
  },
  {
   "cell_type": "code",
   "execution_count": 25,
   "metadata": {},
   "outputs": [
    {
     "data": {
      "text/plain": [
       "['金宝理财2020044期',\n",
       " '金宝理财2020047期',\n",
       " '金宝理财2020051期',\n",
       " '金宝理财2020052期',\n",
       " '金宝理财2020053期',\n",
       " '金宝理财2020048期',\n",
       " '金宝理财2020049期',\n",
       " '金宝理财2020046期',\n",
       " '金宝理财2020045期',\n",
       " '金宝理财2020050期',\n",
       " '金宝理财2020054期',\n",
       " '金宝理财2020055期']"
      ]
     },
     "execution_count": 25,
     "metadata": {},
     "output_type": "execute_result"
    }
   ],
   "source": [
    "a"
   ]
  },
  {
   "cell_type": "code",
   "execution_count": 26,
   "metadata": {},
   "outputs": [
    {
     "data": {
      "text/plain": [
       "['金宝理财2020051期',\n",
       " '金宝理财2020052期',\n",
       " '金宝理财2020045期',\n",
       " '金宝理财2020055期',\n",
       " '金宝理财2020048期',\n",
       " '金宝理财2020054期',\n",
       " '金宝理财2020044期',\n",
       " '金宝理财2020053期',\n",
       " '金宝理财2020047期',\n",
       " '金宝理财2020049期',\n",
       " '金宝理财2020046期',\n",
       " '金宝理财2020050期']"
      ]
     },
     "execution_count": 26,
     "metadata": {},
     "output_type": "execute_result"
    }
   ],
   "source": [
    "list(set(a).intersection(set(b))) "
   ]
  },
  {
   "cell_type": "code",
   "execution_count": 27,
   "metadata": {},
   "outputs": [],
   "source": [
    "ino='金宝理财2020051期'\n",
    "ou='我想要查找金宝理财2020051期'"
   ]
  },
  {
   "cell_type": "code",
   "execution_count": 28,
   "metadata": {},
   "outputs": [
    {
     "data": {
      "text/plain": [
       "True"
      ]
     },
     "execution_count": 28,
     "metadata": {},
     "output_type": "execute_result"
    }
   ],
   "source": [
    "ino in ou"
   ]
  },
  {
   "cell_type": "code",
   "execution_count": 69,
   "metadata": {},
   "outputs": [
    {
     "name": "stdout",
     "output_type": "stream",
     "text": [
      "金宝理财2020055期的实际天数（天）\n",
      "认购价格 : 50000.0\n",
      "机构类别 : 农村合作金融机构\n",
      "产品销售区域 : 江苏\n",
      "收益类型 : 保本浮动收益\n",
      "实际天数（天） : 90\n",
      "产品状态 : 预售\n",
      "产品终止日期 : 2020/12/21\n",
      "产品起始日期 : 2020/09/22\n",
      "募集结束日期 : 2020/09/15\n",
      "募集起始日期 : 2020/09/15\n",
      "风险等级 : 一级(低)\n",
      "风险等级编号 : 1\n",
      "募集币种 : 人民币(CNY)\n",
      "投资性质 : 固定收益类\n",
      "运作模式 : 封闭式非净值型\n",
      "募集方式 : 公募\n",
      "发行机构代码 : C31324\n",
      "发行机构 : 徐州铜山农村商业银行股份有限公司\n",
      "业绩比较基准 : 0\n",
      "期限类型 : 1-3个月(含)\n",
      "登记编码 : C3132420000049\n"
     ]
    }
   ],
   "source": [
    "# 不封装写在main里面的写法\n",
    "sentence = input()\n",
    "ngs, nsx, npr = get_word_objects(sentence)\n",
    "if ngs:\n",
    "    for i in ngs:\n",
    "        answer = searchGraph(label='理财产品', value=i)\n",
    "        if nsx:\n",
    "            for k,v in answer.items():\n",
    "                if k in nsx:\n",
    "                    print(k + ' : ' + v[0][1])\n",
    "        else:\n",
    "            for p,q in answer.items():\n",
    "                print(p + ' : ' + q[0][1])\n",
    "elif npr:\n",
    "    for i in npr:\n",
    "        lab = i.split('为')[0]\n",
    "        val = i.split('为')[1]\n",
    "        answer = searchGraph(label=lab, value=val)\n",
    "        for j in answer['产品']:\n",
    "            print(j[1])\n",
    "else:\n",
    "    print('请输入理财产品全名')"
   ]
  },
  {
   "cell_type": "code",
   "execution_count": 67,
   "metadata": {},
   "outputs": [
    {
     "data": {
      "text/plain": [
       "([], [], [])"
      ]
     },
     "execution_count": 67,
     "metadata": {},
     "output_type": "execute_result"
    }
   ],
   "source": [
    "get_word_objects('实际天数(天)')"
   ]
  },
  {
   "cell_type": "code",
   "execution_count": null,
   "metadata": {},
   "outputs": [],
   "source": []
  }
 ],
 "metadata": {
  "kernelspec": {
   "display_name": "Python 3",
   "language": "python",
   "name": "python3"
  },
  "language_info": {
   "codemirror_mode": {
    "name": "ipython",
    "version": 3
   },
   "file_extension": ".py",
   "mimetype": "text/x-python",
   "name": "python",
   "nbconvert_exporter": "python",
   "pygments_lexer": "ipython3",
   "version": "3.7.3"
  }
 },
 "nbformat": 4,
 "nbformat_minor": 2
}
